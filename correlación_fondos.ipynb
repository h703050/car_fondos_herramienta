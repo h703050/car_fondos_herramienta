{
 "cells": [
  {
   "cell_type": "code",
   "execution_count": 4,
   "metadata": {},
   "outputs": [],
   "source": [
    "import investpy\n",
    "import mi_probeta as mp"
   ]
  },
  {
   "cell_type": "code",
   "execution_count": 5,
   "metadata": {},
   "outputs": [
    {
     "data": {
      "text/plain": [
       "Date\n",
       "2019-07-02    0.002424\n",
       "2019-07-03    0.005609\n",
       "2019-07-04    0.001058\n",
       "2019-07-05   -0.003074\n",
       "2019-07-08   -0.002120\n",
       "                ...   \n",
       "2021-05-19   -0.006206\n",
       "2021-05-20    0.006501\n",
       "2021-05-21    0.002040\n",
       "2021-05-24    0.002884\n",
       "2021-05-25    0.001099\n",
       "Name: returns, Length: 427, dtype: float64"
      ]
     },
     "execution_count": 5,
     "metadata": {},
     "output_type": "execute_result"
    }
   ],
   "source": [
    "# fondo ing es0116396005\n",
    "\n",
    "ing_75_25 = mp.evolucion_fondo('es0116396005')['2019-07-02':]['returns']\n",
    "ing_75_25"
   ]
  },
  {
   "cell_type": "code",
   "execution_count": 6,
   "metadata": {},
   "outputs": [
    {
     "data": {
      "text/plain": [
       "Date\n",
       "2019-07-02    0.001603\n",
       "2019-07-03    0.004000\n",
       "2019-07-04    0.000797\n",
       "2019-07-05   -0.003185\n",
       "2019-07-08   -0.000799\n",
       "                ...   \n",
       "2021-05-19   -0.004688\n",
       "2021-05-20    0.004710\n",
       "2021-05-21    0.002344\n",
       "2021-05-24    0.002338\n",
       "2021-05-25   -0.000778\n",
       "Name: returns, Length: 490, dtype: float64"
      ]
     },
     "execution_count": 6,
     "metadata": {},
     "output_type": "execute_result"
    }
   ],
   "source": [
    "q_inv_moderada = mp.evolucion_fondo('ES0172242002')['2019-07-02':]['returns']\n",
    "q_inv_moderada"
   ]
  },
  {
   "cell_type": "code",
   "execution_count": 7,
   "metadata": {},
   "outputs": [
    {
     "data": {
      "text/plain": [
       "Date\n",
       "2019-07-02    0.001916\n",
       "2019-07-03    0.006692\n",
       "2019-07-04    0.000950\n",
       "2019-07-05   -0.001898\n",
       "2019-07-08   -0.001901\n",
       "                ...   \n",
       "2021-05-19   -0.007776\n",
       "2021-05-20    0.009404\n",
       "2021-05-21    0.006988\n",
       "2021-05-24    0.000771\n",
       "2021-05-25    0.000770\n",
       "Name: returns, Length: 490, dtype: float64"
      ]
     },
     "execution_count": 7,
     "metadata": {},
     "output_type": "execute_result"
    }
   ],
   "source": [
    "m_i = mp.evolucion_fondo('ES0110119031')['2019-07-02':]['returns']\n",
    "m_i"
   ]
  },
  {
   "cell_type": "code",
   "execution_count": 8,
   "metadata": {},
   "outputs": [
    {
     "data": {
      "text/plain": [
       "Date\n",
       "2019-07-02    0.000247\n",
       "2019-07-03    0.003574\n",
       "2019-07-04    0.003929\n",
       "2019-07-05   -0.003792\n",
       "2019-07-08   -0.000982\n",
       "                ...   \n",
       "2021-05-20    0.005441\n",
       "2021-05-21    0.003926\n",
       "2021-05-24    0.000846\n",
       "2021-05-25   -0.005069\n",
       "2021-05-26    0.007855\n",
       "Name: returns, Length: 491, dtype: float64"
      ]
     },
     "execution_count": 8,
     "metadata": {},
     "output_type": "execute_result"
    }
   ],
   "source": [
    "bolsa_europa = mp.evolucion_fondo('ES0114371034')['2019-07-02':]['returns']\n",
    "bolsa_europa"
   ]
  },
  {
   "cell_type": "code",
   "execution_count": 131,
   "metadata": {},
   "outputs": [
    {
     "data": {
      "text/html": [
       "<div>\n",
       "<style scoped>\n",
       "    .dataframe tbody tr th:only-of-type {\n",
       "        vertical-align: middle;\n",
       "    }\n",
       "\n",
       "    .dataframe tbody tr th {\n",
       "        vertical-align: top;\n",
       "    }\n",
       "\n",
       "    .dataframe thead th {\n",
       "        text-align: right;\n",
       "    }\n",
       "</style>\n",
       "<table border=\"1\" class=\"dataframe\">\n",
       "  <thead>\n",
       "    <tr style=\"text-align: right;\">\n",
       "      <th></th>\n",
       "      <th>mejores ideas</th>\n",
       "      <th>bolsa europa</th>\n",
       "      <th>Quality inv moderada</th>\n",
       "      <th>ING 75 25</th>\n",
       "    </tr>\n",
       "    <tr>\n",
       "      <th>Date</th>\n",
       "      <th></th>\n",
       "      <th></th>\n",
       "      <th></th>\n",
       "      <th></th>\n",
       "    </tr>\n",
       "  </thead>\n",
       "  <tbody>\n",
       "    <tr>\n",
       "      <th>2019-07-02</th>\n",
       "      <td>0.001916</td>\n",
       "      <td>0.000247</td>\n",
       "      <td>0.001603</td>\n",
       "      <td>0.002424</td>\n",
       "    </tr>\n",
       "    <tr>\n",
       "      <th>2019-07-03</th>\n",
       "      <td>0.006692</td>\n",
       "      <td>0.003574</td>\n",
       "      <td>0.004000</td>\n",
       "      <td>0.005609</td>\n",
       "    </tr>\n",
       "    <tr>\n",
       "      <th>2019-07-04</th>\n",
       "      <td>0.000950</td>\n",
       "      <td>0.003929</td>\n",
       "      <td>0.000797</td>\n",
       "      <td>0.001058</td>\n",
       "    </tr>\n",
       "    <tr>\n",
       "      <th>2019-07-05</th>\n",
       "      <td>-0.001898</td>\n",
       "      <td>-0.003792</td>\n",
       "      <td>-0.003185</td>\n",
       "      <td>-0.003074</td>\n",
       "    </tr>\n",
       "    <tr>\n",
       "      <th>2019-07-08</th>\n",
       "      <td>-0.001901</td>\n",
       "      <td>-0.000982</td>\n",
       "      <td>-0.000799</td>\n",
       "      <td>-0.002120</td>\n",
       "    </tr>\n",
       "    <tr>\n",
       "      <th>...</th>\n",
       "      <td>...</td>\n",
       "      <td>...</td>\n",
       "      <td>...</td>\n",
       "      <td>...</td>\n",
       "    </tr>\n",
       "    <tr>\n",
       "      <th>2021-05-19</th>\n",
       "      <td>-0.007776</td>\n",
       "      <td>-0.010765</td>\n",
       "      <td>-0.004688</td>\n",
       "      <td>-0.006206</td>\n",
       "    </tr>\n",
       "    <tr>\n",
       "      <th>2021-05-20</th>\n",
       "      <td>0.009404</td>\n",
       "      <td>0.005441</td>\n",
       "      <td>0.004710</td>\n",
       "      <td>0.006501</td>\n",
       "    </tr>\n",
       "    <tr>\n",
       "      <th>2021-05-21</th>\n",
       "      <td>0.006988</td>\n",
       "      <td>0.003926</td>\n",
       "      <td>0.002344</td>\n",
       "      <td>0.002040</td>\n",
       "    </tr>\n",
       "    <tr>\n",
       "      <th>2021-05-24</th>\n",
       "      <td>0.000771</td>\n",
       "      <td>0.000846</td>\n",
       "      <td>0.002338</td>\n",
       "      <td>0.002884</td>\n",
       "    </tr>\n",
       "    <tr>\n",
       "      <th>2021-05-25</th>\n",
       "      <td>0.000770</td>\n",
       "      <td>-0.005069</td>\n",
       "      <td>-0.000778</td>\n",
       "      <td>0.001099</td>\n",
       "    </tr>\n",
       "  </tbody>\n",
       "</table>\n",
       "<p>425 rows × 4 columns</p>\n",
       "</div>"
      ],
      "text/plain": [
       "            mejores ideas  bolsa europa  Quality inv moderada  ING 75 25\n",
       "Date                                                                    \n",
       "2019-07-02       0.001916      0.000247              0.001603   0.002424\n",
       "2019-07-03       0.006692      0.003574              0.004000   0.005609\n",
       "2019-07-04       0.000950      0.003929              0.000797   0.001058\n",
       "2019-07-05      -0.001898     -0.003792             -0.003185  -0.003074\n",
       "2019-07-08      -0.001901     -0.000982             -0.000799  -0.002120\n",
       "...                   ...           ...                   ...        ...\n",
       "2021-05-19      -0.007776     -0.010765             -0.004688  -0.006206\n",
       "2021-05-20       0.009404      0.005441              0.004710   0.006501\n",
       "2021-05-21       0.006988      0.003926              0.002344   0.002040\n",
       "2021-05-24       0.000771      0.000846              0.002338   0.002884\n",
       "2021-05-25       0.000770     -0.005069             -0.000778   0.001099\n",
       "\n",
       "[425 rows x 4 columns]"
      ]
     },
     "execution_count": 131,
     "metadata": {},
     "output_type": "execute_result"
    }
   ],
   "source": [
    "import pandas as pd\n",
    "fondos = pd.DataFrame({'mejores ideas': m_i, 'bolsa europa': bolsa_europa, 'Quality inv moderada': q_inv_moderada, \n",
    "                       'ING 75 25': ing_75_25})\n",
    "fondos = fondos.dropna()\n",
    "fondos"
   ]
  },
  {
   "cell_type": "code",
   "execution_count": 82,
   "metadata": {},
   "outputs": [
    {
     "data": {
      "text/html": [
       "<div>\n",
       "<style scoped>\n",
       "    .dataframe tbody tr th:only-of-type {\n",
       "        vertical-align: middle;\n",
       "    }\n",
       "\n",
       "    .dataframe tbody tr th {\n",
       "        vertical-align: top;\n",
       "    }\n",
       "\n",
       "    .dataframe thead th {\n",
       "        text-align: right;\n",
       "    }\n",
       "</style>\n",
       "<table border=\"1\" class=\"dataframe\">\n",
       "  <thead>\n",
       "    <tr style=\"text-align: right;\">\n",
       "      <th></th>\n",
       "      <th>mejores ideas</th>\n",
       "      <th>bolsa europa</th>\n",
       "      <th>Quality moderado</th>\n",
       "      <th>ING Cartera 72 25</th>\n",
       "    </tr>\n",
       "  </thead>\n",
       "  <tbody>\n",
       "    <tr>\n",
       "      <th>mejores ideas</th>\n",
       "      <td>1.000000</td>\n",
       "      <td>0.816539</td>\n",
       "      <td>0.924140</td>\n",
       "      <td>0.893929</td>\n",
       "    </tr>\n",
       "    <tr>\n",
       "      <th>bolsa europa</th>\n",
       "      <td>0.816539</td>\n",
       "      <td>1.000000</td>\n",
       "      <td>0.821289</td>\n",
       "      <td>0.877398</td>\n",
       "    </tr>\n",
       "    <tr>\n",
       "      <th>Quality moderado</th>\n",
       "      <td>0.924140</td>\n",
       "      <td>0.821289</td>\n",
       "      <td>1.000000</td>\n",
       "      <td>0.879410</td>\n",
       "    </tr>\n",
       "    <tr>\n",
       "      <th>ING Cartera 72 25</th>\n",
       "      <td>0.893929</td>\n",
       "      <td>0.877398</td>\n",
       "      <td>0.879410</td>\n",
       "      <td>1.000000</td>\n",
       "    </tr>\n",
       "  </tbody>\n",
       "</table>\n",
       "</div>"
      ],
      "text/plain": [
       "                   mejores ideas  bolsa europa  Quality moderado  \\\n",
       "mejores ideas           1.000000      0.816539          0.924140   \n",
       "bolsa europa            0.816539      1.000000          0.821289   \n",
       "Quality moderado        0.924140      0.821289          1.000000   \n",
       "ING Cartera 72 25       0.893929      0.877398          0.879410   \n",
       "\n",
       "                   ING Cartera 72 25  \n",
       "mejores ideas               0.893929  \n",
       "bolsa europa                0.877398  \n",
       "Quality moderado            0.879410  \n",
       "ING Cartera 72 25           1.000000  "
      ]
     },
     "execution_count": 82,
     "metadata": {},
     "output_type": "execute_result"
    }
   ],
   "source": [
    "covmat = fondos.corr()\n",
    "covmat"
   ]
  },
  {
   "cell_type": "code",
   "execution_count": 83,
   "metadata": {},
   "outputs": [
    {
     "data": {
      "text/plain": [
       "<matplotlib.image.AxesImage at 0x7fd8e8c58670>"
      ]
     },
     "execution_count": 83,
     "metadata": {},
     "output_type": "execute_result"
    },
    {
     "data": {
      "image/png": "[encoded data removed]",
      "text/plain": [
       "<Figure size 288x288 with 1 Axes>"
      ]
     },
     "metadata": {
      "needs_background": "light"
     },
     "output_type": "display_data"
    }
   ],
   "source": [
    "from matplotlib import pyplot as plt\n",
    "plt.matshow(fondos.corr())"
   ]
  },
  {
   "cell_type": "code",
   "execution_count": 63,
   "metadata": {},
   "outputs": [
    {
     "name": "stdout",
     "output_type": "stream",
     "text": [
      "==================================================\n",
      "> Tasa de crecimiento Anual Compuesto: 1.8151 %\n",
      "> Buy and Hold: 28.171 %\n",
      "> Máximo Drawdown Histórico: -29.81 %\n",
      "> Media Diaria: 0.0085 %\n",
      "> Desviación Típica Diaria: 0.5291 %\n",
      "> Máxima Pérdida Diaria: -4.960 %\n",
      "> Máximo beneficio Diario: 5.3475 %\n",
      "> Días Analizados: 3477\n",
      "==================================================\n",
      "> Coeficiente de asimetría: -0.566\n",
      "> Curtosis: 15.769\n",
      "==================================================\n",
      "> VaR Modelo Gaussiano NC-95% : -0.861 %\n",
      "> VaR Modelo Gaussiano NC-99% : -1.222 %\n",
      "> VaR Modelo Gaussiano NC-99.7% : -1.445 %\n",
      "> VaR Modelo Histórico NC-95% : -0.755 %\n",
      "> VaR Modelo Histórico NC-99% : -1.704 %\n",
      "> VaR Modelo Histórico NC-99.7% : -2.578 %\n",
      "==================================================\n"
     ]
    }
   ],
   "source": [
    "# quality inversion moderada.  'ES0172242002'\n",
    "# bolsa europa 'ES0114371034'\n",
    "# ing 75 25     'es0116396005'\n",
    "# mejores ideas  'ES0110119031'\n",
    "\n",
    "mp.analisis_fondo(mp.evolucion_fondo('ES0172242002')[:])\n"
   ]
  },
  {
   "cell_type": "code",
   "execution_count": 11,
   "metadata": {},
   "outputs": [],
   "source": [
    "mejores_ideas_precios = mp.evolucion_fondo('ES0110119031')['2019-07-02':]['Close']\n",
    "q_inv_moderada_precios = mp.evolucion_fondo('ES0172242002')['2019-07-02':]['Close']\n",
    "ing_75_25_precios = mp.evolucion_fondo('ES0116396005')['2019-07-02':]['Close']\n",
    "bolsa_europa_precios = mp.evolucion_fondo('ES0114371034')['2019-07-02':]['Close']"
   ]
  },
  {
   "cell_type": "code",
   "execution_count": 80,
   "metadata": {},
   "outputs": [
    {
     "data": {
      "text/html": [
       "<div>\n",
       "<style scoped>\n",
       "    .dataframe tbody tr th:only-of-type {\n",
       "        vertical-align: middle;\n",
       "    }\n",
       "\n",
       "    .dataframe tbody tr th {\n",
       "        vertical-align: top;\n",
       "    }\n",
       "\n",
       "    .dataframe thead th {\n",
       "        text-align: right;\n",
       "    }\n",
       "</style>\n",
       "<table border=\"1\" class=\"dataframe\">\n",
       "  <thead>\n",
       "    <tr style=\"text-align: right;\">\n",
       "      <th></th>\n",
       "      <th>mejores ideas</th>\n",
       "      <th>bolsa europa</th>\n",
       "      <th>Quality inv moderada</th>\n",
       "      <th>ING 75 25</th>\n",
       "    </tr>\n",
       "    <tr>\n",
       "      <th>Date</th>\n",
       "      <th></th>\n",
       "      <th></th>\n",
       "      <th></th>\n",
       "      <th></th>\n",
       "    </tr>\n",
       "  </thead>\n",
       "  <tbody>\n",
       "    <tr>\n",
       "      <th>2019-07-02</th>\n",
       "      <td>10.46</td>\n",
       "      <td>81.15</td>\n",
       "      <td>12.50</td>\n",
       "      <td>10.340</td>\n",
       "    </tr>\n",
       "    <tr>\n",
       "      <th>2019-07-03</th>\n",
       "      <td>10.53</td>\n",
       "      <td>81.44</td>\n",
       "      <td>12.55</td>\n",
       "      <td>10.398</td>\n",
       "    </tr>\n",
       "    <tr>\n",
       "      <th>2019-07-04</th>\n",
       "      <td>10.54</td>\n",
       "      <td>81.76</td>\n",
       "      <td>12.56</td>\n",
       "      <td>10.409</td>\n",
       "    </tr>\n",
       "    <tr>\n",
       "      <th>2019-07-05</th>\n",
       "      <td>10.52</td>\n",
       "      <td>81.45</td>\n",
       "      <td>12.52</td>\n",
       "      <td>10.377</td>\n",
       "    </tr>\n",
       "    <tr>\n",
       "      <th>2019-07-08</th>\n",
       "      <td>10.50</td>\n",
       "      <td>81.37</td>\n",
       "      <td>12.51</td>\n",
       "      <td>10.355</td>\n",
       "    </tr>\n",
       "  </tbody>\n",
       "</table>\n",
       "</div>"
      ],
      "text/plain": [
       "            mejores ideas  bolsa europa  Quality inv moderada  ING 75 25\n",
       "Date                                                                    \n",
       "2019-07-02          10.46         81.15                 12.50     10.340\n",
       "2019-07-03          10.53         81.44                 12.55     10.398\n",
       "2019-07-04          10.54         81.76                 12.56     10.409\n",
       "2019-07-05          10.52         81.45                 12.52     10.377\n",
       "2019-07-08          10.50         81.37                 12.51     10.355"
      ]
     },
     "execution_count": 80,
     "metadata": {},
     "output_type": "execute_result"
    }
   ],
   "source": [
    "fondos_precios = pd.DataFrame({'mejores ideas': mejores_ideas_precios,\n",
    "                               'bolsa europa': bolsa_europa_precios,\n",
    "                               'Quality inv moderada': q_inv_moderada_precios, \n",
    "                               'ING 75 25': ing_75_25_precios,\n",
    "                              })\n",
    "fondos_precios.head()"
   ]
  },
  {
   "cell_type": "code",
   "execution_count": 81,
   "metadata": {},
   "outputs": [],
   "source": [
    "fondos_returns = fondos"
   ]
  },
  {
   "cell_type": "code",
   "execution_count": 84,
   "metadata": {},
   "outputs": [],
   "source": [
    "import edhec_risk_kit_123 as erk\n",
    "import numpy as np\n",
    "import pandas as pd\n",
    "from scipy.optimize import minimize\n",
    "portfolio_return = fondos_returns"
   ]
  },
  {
   "cell_type": "code",
   "execution_count": 85,
   "metadata": {},
   "outputs": [
    {
     "data": {
      "text/plain": [
       "array([3.04470338e-12, 1.00000000e+00, 2.87889157e-12, 3.32653349e-12])"
      ]
     },
     "execution_count": 85,
     "metadata": {},
     "output_type": "execute_result"
    }
   ],
   "source": [
    "# a un nivel de rentabilidad activo libre de riesgo, nos la los pesos optimos para la cartera de mas ratio Sharpe\n",
    "erk.msr(0.001, fondos_precios.mean() , fondos_returns.corr())"
   ]
  },
  {
   "cell_type": "markdown",
   "metadata": {},
   "source": [
    "# AQUI TENEMOS EL OBJETO DE NUESTRO ESTUDIO, LA CARTERA DE MENOR VARIANZA"
   ]
  },
  {
   "cell_type": "code",
   "execution_count": 86,
   "metadata": {},
   "outputs": [
    {
     "data": {
      "text/plain": [
       "array([0.23783905, 0.39057896, 0.24886869, 0.1227133 ])"
      ]
     },
     "execution_count": 86,
     "metadata": {},
     "output_type": "execute_result"
    }
   ],
   "source": [
    "# aqui esta lo que queriamos los pesos de una cartera de minima varianza\n",
    "pesos = erk.gmv(fondos_returns.corr())\n",
    "pesos"
   ]
  },
  {
   "cell_type": "markdown",
   "metadata": {},
   "source": [
    "#### OBTENEMOS LA RENTABILIDAD DE LA CARTERA CON       weights.T @ returns \n"
   ]
  },
  {
   "cell_type": "markdown",
   "metadata": {},
   "source": [
    "#### Y LA VOLATILIDAD DE LA CARTERA CON   (weights.T @ covmat @ weights)**0.5"
   ]
  },
  {
   "cell_type": "code",
   "execution_count": 97,
   "metadata": {},
   "outputs": [
    {
     "data": {
      "text/plain": [
       "mejores ideas        25.624487\n",
       "bolsa europa         16.137908\n",
       "Quality moderado      5.365161\n",
       "ING Cartera 72 25    14.185232\n",
       "dtype: float64"
      ]
     },
     "execution_count": 97,
     "metadata": {},
     "output_type": "execute_result"
    }
   ],
   "source": [
    "# LA RENTABILIDAD DE LA CARTERA SERA. de la matriz de retornos fondos, tenemos que obtener el retorno acumulado\n",
    "\n",
    "fondos_return_acumulado = (fondos+1).prod()-1\n",
    "fondos_return_acumulado*100"
   ]
  },
  {
   "cell_type": "markdown",
   "metadata": {},
   "source": [
    "# RENTABILIDAD ANUALIZADA MEDIA DE CADA FONDO"
   ]
  },
  {
   "cell_type": "code",
   "execution_count": 98,
   "metadata": {},
   "outputs": [
    {
     "data": {
      "text/plain": [
       "mejores ideas        14.668619\n",
       "bolsa europa          9.391707\n",
       "Quality moderado      3.185393\n",
       "ING Cartera 72 25     8.284417\n",
       "dtype: float64"
      ]
     },
     "execution_count": 98,
     "metadata": {},
     "output_type": "execute_result"
    }
   ],
   "source": [
    "((fondos+1).prod()**(255/fondos.shape[0])-1)*100"
   ]
  },
  {
   "cell_type": "markdown",
   "metadata": {},
   "source": [
    "# VOLATILIDAD ANUALIZADA MEDIA DE CADA FONDO"
   ]
  },
  {
   "cell_type": "code",
   "execution_count": 99,
   "metadata": {},
   "outputs": [
    {
     "data": {
      "text/plain": [
       "mejores ideas        17.597992\n",
       "bolsa europa         24.102065\n",
       "Quality moderado      9.151542\n",
       "ING Cartera 72 25    15.737806\n",
       "dtype: float64"
      ]
     },
     "execution_count": 99,
     "metadata": {},
     "output_type": "execute_result"
    }
   ],
   "source": [
    "(fondos.std()*np.sqrt(255))*100"
   ]
  },
  {
   "cell_type": "code",
   "execution_count": 100,
   "metadata": {},
   "outputs": [
    {
     "data": {
      "text/plain": [
       "0.15473568435078705"
      ]
     },
     "execution_count": 100,
     "metadata": {},
     "output_type": "execute_result"
    }
   ],
   "source": [
    "#RENTABILIDAD DE LA CARTERA  (NO TRASPONEMOS LA MATRIZ SEGUN FORMULA PORQUE LAS SON (4,) Y (,4))\n",
    "fondos_return_acumulado@pesos"
   ]
  },
  {
   "cell_type": "code",
   "execution_count": 101,
   "metadata": {},
   "outputs": [
    {
     "data": {
      "text/plain": [
       "Date\n",
       "2019-07-02    38.562993\n",
       "2019-07-03    38.712471\n",
       "2019-07-04    38.843673\n",
       "2019-07-05    38.703955\n",
       "2019-07-08    38.662764\n",
       "                ...    \n",
       "2021-05-20    44.500892\n",
       "2021-05-21    44.677223\n",
       "2021-05-24    44.722486\n",
       "2021-05-25    44.536493\n",
       "2021-05-26          NaN\n",
       "Length: 498, dtype: float64"
      ]
     },
     "execution_count": 101,
     "metadata": {},
     "output_type": "execute_result"
    }
   ],
   "source": [
    "# vamos a calcular los precios de la cartera\n",
    "cartera_precios = fondos_precios@pesos\n",
    "cartera_precios"
   ]
  },
  {
   "cell_type": "code",
   "execution_count": null,
   "metadata": {},
   "outputs": [],
   "source": [
    "# REPASAR LA FORMULA DE FONDOS_PRECIOS@PESOS PORQUE NO FUNCIONA Y LA RENTABILID QUE DEVUELVE NO ES CORRECTA\n",
    "((cartera_returns+1).prod()**(255/cartera_returns.shape[0])-1)*100"
   ]
  },
  {
   "cell_type": "markdown",
   "metadata": {},
   "source": []
  },
  {
   "cell_type": "code",
   "execution_count": 149,
   "metadata": {},
   "outputs": [
    {
     "data": {
      "text/plain": [
       "21.064915592687043"
      ]
     },
     "execution_count": 149,
     "metadata": {},
     "output_type": "execute_result"
    }
   ],
   "source": [
    "# ahora calculamos los returns y la volatilidad anualizada  TAMPOCO DA EL DATO CORRECTO POR LO MISMO DE ARRIBA\n",
    "cartera_returns = cartera_precios.pct_change().dropna()\n",
    "(cartera_returns.std()*np.sqrt(255))*100"
   ]
  },
  {
   "cell_type": "markdown",
   "metadata": {},
   "source": [
    "# RENTABILIDAD DE LA CARTERA"
   ]
  },
  {
   "cell_type": "code",
   "execution_count": 150,
   "metadata": {},
   "outputs": [],
   "source": [
    "vv = fondos['mejores ideas']*0.24+fondos['bolsa europa']*0.39+fondos['Quality inv moderada']*0.25+fondos['ING 75 25']*0.12"
   ]
  },
  {
   "cell_type": "code",
   "execution_count": 148,
   "metadata": {},
   "outputs": [
    {
     "data": {
      "text/plain": [
       "9.260058195589282"
      ]
     },
     "execution_count": 148,
     "metadata": {},
     "output_type": "execute_result"
    }
   ],
   "source": [
    "((vv+1).prod()**(255/vv.shape[0])-1)*100"
   ]
  },
  {
   "cell_type": "code",
   "execution_count": 138,
   "metadata": {},
   "outputs": [],
   "source": [
    "vv = fondos['mejores ideas']*0.24+fondos['bolsa europa']*0.39+fondos['Quality inv moderada']*0.25+fondos['ING 75 25']*0.12"
   ]
  },
  {
   "cell_type": "markdown",
   "metadata": {},
   "source": [
    "#  VOLATILIDAD DE LA CARTERA"
   ]
  },
  {
   "cell_type": "code",
   "execution_count": 139,
   "metadata": {},
   "outputs": [
    {
     "data": {
      "text/plain": [
       "16.91225711072232"
      ]
     },
     "execution_count": 139,
     "metadata": {},
     "output_type": "execute_result"
    }
   ],
   "source": [
    "vv.std()*np.sqrt(255)*100"
   ]
  },
  {
   "cell_type": "markdown",
   "metadata": {},
   "source": [
    "### COMPROBAR QUE LA CARTERA PONDERADA SE CALCULA CORRECTAMENTE ASÍ "
   ]
  },
  {
   "cell_type": "code",
   "execution_count": 162,
   "metadata": {},
   "outputs": [
    {
     "data": {
      "text/html": [
       "<div>\n",
       "<style scoped>\n",
       "    .dataframe tbody tr th:only-of-type {\n",
       "        vertical-align: middle;\n",
       "    }\n",
       "\n",
       "    .dataframe tbody tr th {\n",
       "        vertical-align: top;\n",
       "    }\n",
       "\n",
       "    .dataframe thead th {\n",
       "        text-align: right;\n",
       "    }\n",
       "</style>\n",
       "<table border=\"1\" class=\"dataframe\">\n",
       "  <thead>\n",
       "    <tr style=\"text-align: right;\">\n",
       "      <th></th>\n",
       "      <th>mejores ideas</th>\n",
       "      <th>bolsa europa</th>\n",
       "      <th>Quality inv moderada</th>\n",
       "      <th>ING 75 25</th>\n",
       "    </tr>\n",
       "    <tr>\n",
       "      <th>Date</th>\n",
       "      <th></th>\n",
       "      <th></th>\n",
       "      <th></th>\n",
       "      <th></th>\n",
       "    </tr>\n",
       "  </thead>\n",
       "  <tbody>\n",
       "    <tr>\n",
       "      <th>2019-07-02</th>\n",
       "      <td>2.487796</td>\n",
       "      <td>31.695483</td>\n",
       "      <td>3.110859</td>\n",
       "      <td>1.268855</td>\n",
       "    </tr>\n",
       "    <tr>\n",
       "      <th>2019-07-03</th>\n",
       "      <td>2.504445</td>\n",
       "      <td>31.808751</td>\n",
       "      <td>3.123302</td>\n",
       "      <td>1.275973</td>\n",
       "    </tr>\n",
       "    <tr>\n",
       "      <th>2019-07-04</th>\n",
       "      <td>2.506824</td>\n",
       "      <td>31.933736</td>\n",
       "      <td>3.125791</td>\n",
       "      <td>1.277323</td>\n",
       "    </tr>\n",
       "    <tr>\n",
       "      <th>2019-07-05</th>\n",
       "      <td>2.502067</td>\n",
       "      <td>31.812657</td>\n",
       "      <td>3.115836</td>\n",
       "      <td>1.273396</td>\n",
       "    </tr>\n",
       "    <tr>\n",
       "      <th>2019-07-08</th>\n",
       "      <td>2.497310</td>\n",
       "      <td>31.781410</td>\n",
       "      <td>3.113347</td>\n",
       "      <td>1.270696</td>\n",
       "    </tr>\n",
       "  </tbody>\n",
       "</table>\n",
       "</div>"
      ],
      "text/plain": [
       "            mejores ideas  bolsa europa  Quality inv moderada  ING 75 25\n",
       "Date                                                                    \n",
       "2019-07-02       2.487796     31.695483              3.110859   1.268855\n",
       "2019-07-03       2.504445     31.808751              3.123302   1.275973\n",
       "2019-07-04       2.506824     31.933736              3.125791   1.277323\n",
       "2019-07-05       2.502067     31.812657              3.115836   1.273396\n",
       "2019-07-08       2.497310     31.781410              3.113347   1.270696"
      ]
     },
     "execution_count": 162,
     "metadata": {},
     "output_type": "execute_result"
    }
   ],
   "source": [
    "cartera = fondos_precios * pesos\n",
    "cartera.head()"
   ]
  },
  {
   "cell_type": "code",
   "execution_count": 181,
   "metadata": {},
   "outputs": [
    {
     "data": {
      "text/plain": [
       "Date\n",
       "2019-07-02    38.562993\n",
       "2019-07-03    38.712471\n",
       "2019-07-04    38.843673\n",
       "2019-07-05    38.703955\n",
       "2019-07-08    38.662764\n",
       "                ...    \n",
       "2021-05-20    44.500892\n",
       "2021-05-21    44.677223\n",
       "2021-05-24    44.722486\n",
       "2021-05-25    44.536493\n",
       "2021-05-26    37.085473\n",
       "Length: 498, dtype: float64"
      ]
     },
     "execution_count": 181,
     "metadata": {},
     "output_type": "execute_result"
    }
   ],
   "source": [
    "cartera.sum(axis=1)"
   ]
  },
  {
   "cell_type": "code",
   "execution_count": 157,
   "metadata": {},
   "outputs": [],
   "source": [
    "from matplotlib import pyplot as plt"
   ]
  },
  {
   "cell_type": "code",
   "execution_count": 171,
   "metadata": {
    "jupyter": {
     "source_hidden": true
    }
   },
   "outputs": [
    {
     "data": {
      "text/plain": [
       "[<matplotlib.lines.Line2D at 0x7fd8ea20aa00>]"
      ]
     },
     "execution_count": 171,
     "metadata": {},
     "output_type": "execute_result"
    },
    {
     "data": {
      "image/png": "[encoded data removed]",
      "text/plain": [
       "<Figure size 432x288 with 1 Axes>"
      ]
     },
     "metadata": {
      "needs_background": "light"
     },
     "output_type": "display_data"
    }
   ],
   "source": [
    "plt.plot((vv+1).cumprod())"
   ]
  },
  {
   "cell_type": "code",
   "execution_count": 173,
   "metadata": {},
   "outputs": [
    {
     "data": {
      "text/plain": [
       "[<matplotlib.lines.Line2D at 0x7fd8a8931400>]"
      ]
     },
     "execution_count": 173,
     "metadata": {},
     "output_type": "execute_result"
    },
    {
     "data": {
      "image/png": "[encoded data removed]",
      "text/plain": [
       "<Figure size 432x288 with 1 Axes>"
      ]
     },
     "metadata": {
      "needs_background": "light"
     },
     "output_type": "display_data"
    }
   ],
   "source": [
    "plt.plot(fondos_precios['mejores ideas'])"
   ]
  },
  {
   "cell_type": "code",
   "execution_count": 172,
   "metadata": {},
   "outputs": [
    {
     "data": {
      "text/plain": [
       "[<matplotlib.lines.Line2D at 0x7fd8a88dfc10>]"
      ]
     },
     "execution_count": 172,
     "metadata": {},
     "output_type": "execute_result"
    },
    {
     "data": {
      "image/png": "[encoded data removed]",
      "text/plain": [
       "<Figure size 432x288 with 1 Axes>"
      ]
     },
     "metadata": {
      "needs_background": "light"
     },
     "output_type": "display_data"
    }
   ],
   "source": [
    "plt.plot(fondos_precios['bolsa europa'])"
   ]
  },
  {
   "cell_type": "code",
   "execution_count": 174,
   "metadata": {},
   "outputs": [
    {
     "data": {
      "text/plain": [
       "[<matplotlib.lines.Line2D at 0x7fd8ede64dc0>]"
      ]
     },
     "execution_count": 174,
     "metadata": {},
     "output_type": "execute_result"
    },
    {
     "data": {
      "image/png": "[encoded data removed]",
      "text/plain": [
       "<Figure size 432x288 with 1 Axes>"
      ]
     },
     "metadata": {
      "needs_background": "light"
     },
     "output_type": "display_data"
    }
   ],
   "source": [
    "plt.plot(fondos_precios['Quality inv moderada'])"
   ]
  },
  {
   "cell_type": "code",
   "execution_count": 175,
   "metadata": {},
   "outputs": [
    {
     "data": {
      "text/plain": [
       "[<matplotlib.lines.Line2D at 0x7fd8dacd0bb0>]"
      ]
     },
     "execution_count": 175,
     "metadata": {},
     "output_type": "execute_result"
    },
    {
     "data": {
      "image/png": "[encoded data removed]",
      "text/plain": [
       "<Figure size 432x288 with 1 Axes>"
      ]
     },
     "metadata": {
      "needs_background": "light"
     },
     "output_type": "display_data"
    }
   ],
   "source": [
    "plt.plot(fondos_precios['ING 75 25'])"
   ]
  }
 ],
 "metadata": {
  "kernelspec": {
   "display_name": "Python 3",
   "language": "python",
   "name": "python3"
  },
  "language_info": {
   "codemirror_mode": {
    "name": "ipython",
    "version": 3
   },
   "file_extension": ".py",
   "mimetype": "text/x-python",
   "name": "python",
   "nbconvert_exporter": "python",
   "pygments_lexer": "ipython3",
   "version": "3.8.5"
  }
 },
 "nbformat": 4,
 "nbformat_minor": 4
}
