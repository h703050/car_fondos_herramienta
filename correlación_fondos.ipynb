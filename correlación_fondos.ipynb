{
 "cells": [
  {
   "cell_type": "code",
   "execution_count": 2,
   "metadata": {},
   "outputs": [],
   "source": [
    "import investpy\n",
    "import mi_probeta as mp"
   ]
  },
  {
   "cell_type": "code",
   "execution_count": 47,
   "metadata": {},
   "outputs": [
    {
     "data": {
      "text/plain": [
       "Date\n",
       "2018-04-26    0.011740\n",
       "2018-04-27    0.001055\n",
       "2018-04-30    0.003161\n",
       "2018-05-02    0.004202\n",
       "2018-05-03   -0.005230\n",
       "                ...   \n",
       "2020-12-25    0.000000\n",
       "2020-12-28    0.000814\n",
       "2020-12-29    0.000814\n",
       "2020-12-30    0.001626\n",
       "2020-12-31    0.004058\n",
       "Name: returns, Length: 614, dtype: float64"
      ]
     },
     "execution_count": 47,
     "metadata": {},
     "output_type": "execute_result"
    }
   ],
   "source": [
    "m_i = mp.evolucion_fondo('ES0110119031')['2018-04-26':'2020']['returns']\n",
    "m_i"
   ]
  },
  {
   "cell_type": "code",
   "execution_count": 48,
   "metadata": {},
   "outputs": [
    {
     "data": {
      "text/plain": [
       "Date\n",
       "2018-04-26    0.013936\n",
       "2018-04-27   -0.003493\n",
       "2018-04-30   -0.001244\n",
       "2018-05-02    0.013131\n",
       "2018-05-03   -0.000782\n",
       "                ...   \n",
       "2020-12-23    0.004957\n",
       "2020-12-28    0.002959\n",
       "2020-12-29   -0.009639\n",
       "2020-12-30    0.001708\n",
       "2020-12-31   -0.001824\n",
       "Name: returns, Length: 647, dtype: float64"
      ]
     },
     "execution_count": 48,
     "metadata": {},
     "output_type": "execute_result"
    }
   ],
   "source": [
    "Pictet_Security = mp.evolucion_fondo('LU0270905242')['2018-04-26':'2020']['returns']\n",
    "Pictet_Security"
   ]
  },
  {
   "cell_type": "code",
   "execution_count": 8,
   "metadata": {},
   "outputs": [
    {
     "data": {
      "text/plain": [
       "Date\n",
       "2018-04-26    0.007265\n",
       "2018-04-27    0.005721\n",
       "2018-04-30    0.003710\n",
       "2018-05-02    0.002341\n",
       "2018-05-03   -0.004671\n",
       "                ...   \n",
       "2020-12-25   -0.000123\n",
       "2020-12-28    0.002467\n",
       "2020-12-29    0.003200\n",
       "2020-12-30   -0.002944\n",
       "2020-12-31   -0.001722\n",
       "Name: returns, Length: 607, dtype: float64"
      ]
     },
     "execution_count": 8,
     "metadata": {},
     "output_type": "execute_result"
    }
   ],
   "source": [
    "bolsa_europa = mp.evolucion_fondo('ES0114371034')['2018-04-26':'2020']['returns']\n",
    "bolsa_europa"
   ]
  },
  {
   "cell_type": "code",
   "execution_count": 49,
   "metadata": {},
   "outputs": [
    {
     "data": {
      "text/plain": [
       "Date\n",
       "2018-04-26    0.004040\n",
       "2018-04-27    0.004024\n",
       "2018-04-30    0.003340\n",
       "2018-05-02   -0.006658\n",
       "2018-05-03   -0.002681\n",
       "                ...   \n",
       "2020-12-23    0.003281\n",
       "2020-12-28    0.000654\n",
       "2020-12-29    0.001307\n",
       "2020-12-30   -0.002611\n",
       "2020-12-31   -0.002618\n",
       "Name: returns, Length: 645, dtype: float64"
      ]
     },
     "execution_count": 49,
     "metadata": {},
     "output_type": "execute_result"
    }
   ],
   "source": [
    "Nordea1_stableReturn = mp.evolucion_fondo('LU0227385266')['2018-04-26':'2020']['returns']\n",
    "Nordea1_stableReturn"
   ]
  },
  {
   "cell_type": "code",
   "execution_count": 9,
   "metadata": {},
   "outputs": [
    {
     "data": {
      "text/html": [
       "<div>\n",
       "<style scoped>\n",
       "    .dataframe tbody tr th:only-of-type {\n",
       "        vertical-align: middle;\n",
       "    }\n",
       "\n",
       "    .dataframe tbody tr th {\n",
       "        vertical-align: top;\n",
       "    }\n",
       "\n",
       "    .dataframe thead th {\n",
       "        text-align: right;\n",
       "    }\n",
       "</style>\n",
       "<table border=\"1\" class=\"dataframe\">\n",
       "  <thead>\n",
       "    <tr style=\"text-align: right;\">\n",
       "      <th></th>\n",
       "      <th>mejores ideas</th>\n",
       "      <th>bolsa europa</th>\n",
       "      <th>Pictet Security</th>\n",
       "      <th>Nordea1 Stable Return</th>\n",
       "    </tr>\n",
       "    <tr>\n",
       "      <th>Date</th>\n",
       "      <th></th>\n",
       "      <th></th>\n",
       "      <th></th>\n",
       "      <th></th>\n",
       "    </tr>\n",
       "  </thead>\n",
       "  <tbody>\n",
       "    <tr>\n",
       "      <th>2018-04-26</th>\n",
       "      <td>0.011740</td>\n",
       "      <td>0.007265</td>\n",
       "      <td>0.013936</td>\n",
       "      <td>0.004040</td>\n",
       "    </tr>\n",
       "    <tr>\n",
       "      <th>2018-04-27</th>\n",
       "      <td>0.001055</td>\n",
       "      <td>0.005721</td>\n",
       "      <td>-0.003493</td>\n",
       "      <td>0.004024</td>\n",
       "    </tr>\n",
       "    <tr>\n",
       "      <th>2018-04-30</th>\n",
       "      <td>0.003161</td>\n",
       "      <td>0.003710</td>\n",
       "      <td>-0.001244</td>\n",
       "      <td>0.003340</td>\n",
       "    </tr>\n",
       "    <tr>\n",
       "      <th>2018-05-02</th>\n",
       "      <td>0.004202</td>\n",
       "      <td>0.002341</td>\n",
       "      <td>0.013131</td>\n",
       "      <td>-0.006658</td>\n",
       "    </tr>\n",
       "    <tr>\n",
       "      <th>2018-05-03</th>\n",
       "      <td>-0.005230</td>\n",
       "      <td>-0.004671</td>\n",
       "      <td>-0.000782</td>\n",
       "      <td>-0.002681</td>\n",
       "    </tr>\n",
       "    <tr>\n",
       "      <th>...</th>\n",
       "      <td>...</td>\n",
       "      <td>...</td>\n",
       "      <td>...</td>\n",
       "      <td>...</td>\n",
       "    </tr>\n",
       "    <tr>\n",
       "      <th>2020-12-25</th>\n",
       "      <td>0.000000</td>\n",
       "      <td>-0.000123</td>\n",
       "      <td>NaN</td>\n",
       "      <td>NaN</td>\n",
       "    </tr>\n",
       "    <tr>\n",
       "      <th>2020-12-28</th>\n",
       "      <td>0.000814</td>\n",
       "      <td>0.002467</td>\n",
       "      <td>0.002959</td>\n",
       "      <td>0.000654</td>\n",
       "    </tr>\n",
       "    <tr>\n",
       "      <th>2020-12-29</th>\n",
       "      <td>0.000814</td>\n",
       "      <td>0.003200</td>\n",
       "      <td>-0.009639</td>\n",
       "      <td>0.001307</td>\n",
       "    </tr>\n",
       "    <tr>\n",
       "      <th>2020-12-30</th>\n",
       "      <td>0.001626</td>\n",
       "      <td>-0.002944</td>\n",
       "      <td>0.001708</td>\n",
       "      <td>-0.002611</td>\n",
       "    </tr>\n",
       "    <tr>\n",
       "      <th>2020-12-31</th>\n",
       "      <td>0.004058</td>\n",
       "      <td>-0.001722</td>\n",
       "      <td>-0.001824</td>\n",
       "      <td>-0.002618</td>\n",
       "    </tr>\n",
       "  </tbody>\n",
       "</table>\n",
       "<p>691 rows × 4 columns</p>\n",
       "</div>"
      ],
      "text/plain": [
       "            mejores ideas  bolsa europa  Pictet Security  \\\n",
       "Date                                                       \n",
       "2018-04-26       0.011740      0.007265         0.013936   \n",
       "2018-04-27       0.001055      0.005721        -0.003493   \n",
       "2018-04-30       0.003161      0.003710        -0.001244   \n",
       "2018-05-02       0.004202      0.002341         0.013131   \n",
       "2018-05-03      -0.005230     -0.004671        -0.000782   \n",
       "...                   ...           ...              ...   \n",
       "2020-12-25       0.000000     -0.000123              NaN   \n",
       "2020-12-28       0.000814      0.002467         0.002959   \n",
       "2020-12-29       0.000814      0.003200        -0.009639   \n",
       "2020-12-30       0.001626     -0.002944         0.001708   \n",
       "2020-12-31       0.004058     -0.001722        -0.001824   \n",
       "\n",
       "            Nordea1 Stable Return  \n",
       "Date                               \n",
       "2018-04-26               0.004040  \n",
       "2018-04-27               0.004024  \n",
       "2018-04-30               0.003340  \n",
       "2018-05-02              -0.006658  \n",
       "2018-05-03              -0.002681  \n",
       "...                           ...  \n",
       "2020-12-25                    NaN  \n",
       "2020-12-28               0.000654  \n",
       "2020-12-29               0.001307  \n",
       "2020-12-30              -0.002611  \n",
       "2020-12-31              -0.002618  \n",
       "\n",
       "[691 rows x 4 columns]"
      ]
     },
     "execution_count": 9,
     "metadata": {},
     "output_type": "execute_result"
    }
   ],
   "source": [
    "import pandas as pd\n",
    "fondos = pd.DataFrame({'mejores ideas': m_i, 'bolsa europa': bolsa_europa, 'Pictet Security': Pictet_Security, \n",
    "                       'Nordea1 Stable Return': Nordea1_stableReturn})\n",
    "fondos"
   ]
  },
  {
   "cell_type": "code",
   "execution_count": 10,
   "metadata": {},
   "outputs": [
    {
     "data": {
      "text/html": [
       "<div>\n",
       "<style scoped>\n",
       "    .dataframe tbody tr th:only-of-type {\n",
       "        vertical-align: middle;\n",
       "    }\n",
       "\n",
       "    .dataframe tbody tr th {\n",
       "        vertical-align: top;\n",
       "    }\n",
       "\n",
       "    .dataframe thead th {\n",
       "        text-align: right;\n",
       "    }\n",
       "</style>\n",
       "<table border=\"1\" class=\"dataframe\">\n",
       "  <thead>\n",
       "    <tr style=\"text-align: right;\">\n",
       "      <th></th>\n",
       "      <th>mejores ideas</th>\n",
       "      <th>bolsa europa</th>\n",
       "      <th>Pictet Security</th>\n",
       "      <th>Nordea1 Stable Return</th>\n",
       "    </tr>\n",
       "  </thead>\n",
       "  <tbody>\n",
       "    <tr>\n",
       "      <th>mejores ideas</th>\n",
       "      <td>1.000000</td>\n",
       "      <td>0.846497</td>\n",
       "      <td>0.769788</td>\n",
       "      <td>0.536811</td>\n",
       "    </tr>\n",
       "    <tr>\n",
       "      <th>bolsa europa</th>\n",
       "      <td>0.846497</td>\n",
       "      <td>1.000000</td>\n",
       "      <td>0.616069</td>\n",
       "      <td>0.463755</td>\n",
       "    </tr>\n",
       "    <tr>\n",
       "      <th>Pictet Security</th>\n",
       "      <td>0.769788</td>\n",
       "      <td>0.616069</td>\n",
       "      <td>1.000000</td>\n",
       "      <td>0.739236</td>\n",
       "    </tr>\n",
       "    <tr>\n",
       "      <th>Nordea1 Stable Return</th>\n",
       "      <td>0.536811</td>\n",
       "      <td>0.463755</td>\n",
       "      <td>0.739236</td>\n",
       "      <td>1.000000</td>\n",
       "    </tr>\n",
       "  </tbody>\n",
       "</table>\n",
       "</div>"
      ],
      "text/plain": [
       "                       mejores ideas  bolsa europa  Pictet Security  \\\n",
       "mejores ideas               1.000000      0.846497         0.769788   \n",
       "bolsa europa                0.846497      1.000000         0.616069   \n",
       "Pictet Security             0.769788      0.616069         1.000000   \n",
       "Nordea1 Stable Return       0.536811      0.463755         0.739236   \n",
       "\n",
       "                       Nordea1 Stable Return  \n",
       "mejores ideas                       0.536811  \n",
       "bolsa europa                        0.463755  \n",
       "Pictet Security                     0.739236  \n",
       "Nordea1 Stable Return               1.000000  "
      ]
     },
     "execution_count": 10,
     "metadata": {},
     "output_type": "execute_result"
    }
   ],
   "source": [
    "fondos.corr()"
   ]
  },
  {
   "cell_type": "code",
   "execution_count": 11,
   "metadata": {},
   "outputs": [
    {
     "data": {
      "text/plain": [
       "<matplotlib.image.AxesImage at 0x7f8fe33ee5b0>"
      ]
     },
     "execution_count": 11,
     "metadata": {},
     "output_type": "execute_result"
    },
    {
     "data": {
      "image/png": "[encoded data removed]",
      "text/plain": [
       "<Figure size 288x288 with 1 Axes>"
      ]
     },
     "metadata": {
      "needs_background": "light"
     },
     "output_type": "display_data"
    }
   ],
   "source": [
    "from matplotlib import pyplot as plt\n",
    "plt.matshow(fondos.corr())"
   ]
  },
  {
   "cell_type": "code",
   "execution_count": 16,
   "metadata": {},
   "outputs": [
    {
     "data": {
      "text/plain": [
       "<AxesSubplot:xlabel='Date'>"
      ]
     },
     "execution_count": 16,
     "metadata": {},
     "output_type": "execute_result"
    },
    {
     "data": {
      "image/png": "[encoded data removed]",
      "text/plain": [
       "<Figure size 1152x432 with 1 Axes>"
      ]
     },
     "metadata": {
      "needs_background": "light"
     },
     "output_type": "display_data"
    }
   ],
   "source": [
    "pictet_security = mp.evolucion_fondo('LU0270905242')\n",
    "Nordea1_stableReturn = mp.evolucion_fondo('LU0227385266')\n",
    "\n",
    "Nordea1_stableReturn['Close'].plot(figsize=(16,6))"
   ]
  },
  {
   "cell_type": "code",
   "execution_count": 69,
   "metadata": {},
   "outputs": [
    {
     "name": "stdout",
     "output_type": "stream",
     "text": [
      "==================================================\n",
      "> Tasa de crecimiento Anual Compuesto: 13.829 %\n",
      "> Buy and Hold: 33.423 %\n",
      "> Máximo Drawdown Histórico: -17.95 %\n",
      "> Media Diaria: 0.0561 %\n",
      "> Desviación Típica Diaria: 0.9470 %\n",
      "> Máxima Pérdida Diaria: -4.736 %\n",
      "> Máximo beneficio Diario: 3.6054 %\n",
      "> Días Analizados: 561\n",
      "==================================================\n",
      "> Coeficiente de asimetría: -0.663\n",
      "> Curtosis: 2.3294\n",
      "==================================================\n",
      "> VaR Modelo Gaussiano NC-95% : -1.500 %\n",
      "> VaR Modelo Gaussiano NC-99% : -2.144 %\n",
      "> VaR Modelo Gaussiano NC-99.7% : -2.543 %\n",
      "> VaR Modelo Histórico NC-95% : -1.539 %\n",
      "> VaR Modelo Histórico NC-99% : -2.976 %\n",
      "> VaR Modelo Histórico NC-99.7% : -3.286 %\n",
      "==================================================\n"
     ]
    }
   ],
   "source": [
    "mp.analisis_fondo(pictet_security['2017':'2019'])"
   ]
  },
  {
   "cell_type": "code",
   "execution_count": 67,
   "metadata": {},
   "outputs": [
    {
     "data": {
      "text/plain": [
       "0.012574827898442161"
      ]
     },
     "execution_count": 67,
     "metadata": {},
     "output_type": "execute_result"
    }
   ],
   "source": [
    "pictet_security['returns'].std()"
   ]
  },
  {
   "cell_type": "code",
   "execution_count": null,
   "metadata": {},
   "outputs": [],
   "source": []
  },
  {
   "cell_type": "code",
   "execution_count": null,
   "metadata": {},
   "outputs": [],
   "source": []
  },
  {
   "cell_type": "code",
   "execution_count": null,
   "metadata": {},
   "outputs": [],
   "source": []
  },
  {
   "cell_type": "markdown",
   "metadata": {},
   "source": []
  },
  {
   "cell_type": "code",
   "execution_count": 43,
   "metadata": {},
   "outputs": [],
   "source": [
    "mejores_ideas_precios = mp.evolucion_fondo('ES0110119031')['2018-04-26':'2020']['Close']\n",
    "Pictet_Security_precios = mp.evolucion_fondo('LU0270905242')['2018-04-26':'2020']['Close']\n",
    "Nordea1_stableReturn_precios = mp.evolucion_fondo('LU0227385266')['2018-04-26':'2020']['Close']"
   ]
  },
  {
   "cell_type": "code",
   "execution_count": 45,
   "metadata": {},
   "outputs": [],
   "source": [
    "fondos_precios = pd.DataFrame({'mejores ideas': mejores_ideas_precios, 'Pictet Security': Pictet_Security_precios, \n",
    "                       'Nordea1 Stable Return': Nordea1_stableReturn_precios})\n"
   ]
  },
  {
   "cell_type": "code",
   "execution_count": 51,
   "metadata": {},
   "outputs": [],
   "source": [
    "fondos_returns = pd.DataFrame({'mejores ideas': m_i, 'Pictet Security': Pictet_Security, \n",
    "                       'Nordea1 Stable Return': Nordea1_stableReturn})"
   ]
  },
  {
   "cell_type": "code",
   "execution_count": 52,
   "metadata": {},
   "outputs": [],
   "source": [
    "import edhec_risk_kit_123 as erk\n",
    "import numpy as np\n",
    "import pandas as pd\n",
    "from scipy.optimize import minimize\n",
    "portfolio_return = fondos_returns"
   ]
  },
  {
   "cell_type": "code",
   "execution_count": 53,
   "metadata": {},
   "outputs": [
    {
     "data": {
      "text/plain": [
       "array([0., 1., 0.])"
      ]
     },
     "execution_count": 53,
     "metadata": {},
     "output_type": "execute_result"
    }
   ],
   "source": [
    "# a un nivel de rentabilidad activo libre de riesgo, nos la los pesos optimos para la cartera de mas ratio Sharpe\n",
    "erk.msr(0.01, fondos_precios.mean() , fondos_returns.corr())"
   ]
  },
  {
   "cell_type": "markdown",
   "metadata": {},
   "source": [
    "# AQUI TENEMOS EL OBJETO DE NUESTRO ESTUDIO, LA CARTERA DE MENOR VARIANZA"
   ]
  },
  {
   "cell_type": "code",
   "execution_count": 55,
   "metadata": {},
   "outputs": [
    {
     "data": {
      "text/plain": [
       "array([0.47081233, 0.05432588, 0.47486179])"
      ]
     },
     "execution_count": 55,
     "metadata": {},
     "output_type": "execute_result"
    }
   ],
   "source": [
    "# aqui esta lo que queriamos los pesos de una cartera de minima varianza\n",
    "erk.gmv(fondos_returns.corr())"
   ]
  },
  {
   "cell_type": "markdown",
   "metadata": {},
   "source": [
    "# esto no se que es, hay que refinarlo para ver la rentabilidad esperadad de la cartera"
   ]
  },
  {
   "cell_type": "code",
   "execution_count": 56,
   "metadata": {},
   "outputs": [
    {
     "data": {
      "text/plain": [
       "mejores ideas             4.954196\n",
       "Pictet Security          11.434453\n",
       "Nordea1 Stable Return     7.140530\n",
       "dtype: float64"
      ]
     },
     "execution_count": 56,
     "metadata": {},
     "output_type": "execute_result"
    }
   ],
   "source": [
    "erk.gmv(fondos_returns.corr()) * fondos_precios.mean()"
   ]
  }
 ],
 "metadata": {
  "kernelspec": {
   "display_name": "Python 3",
   "language": "python",
   "name": "python3"
  },
  "language_info": {
   "codemirror_mode": {
    "name": "ipython",
    "version": 3
   },
   "file_extension": ".py",
   "mimetype": "text/x-python",
   "name": "python",
   "nbconvert_exporter": "python",
   "pygments_lexer": "ipython3",
   "version": "3.8.5"
  }
 },
 "nbformat": 4,
 "nbformat_minor": 4
}
